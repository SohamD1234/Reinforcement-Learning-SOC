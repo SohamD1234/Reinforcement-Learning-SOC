{
 "cells": [
  {
   "attachments": {},
   "cell_type": "markdown",
   "metadata": {},
   "source": [
    "# Part I: Monte Carlo ES\n",
    "\n",
    "- Here you are given an executable that represents the Markov Decision Process. The executable is named [```MDP```](./MDP).\n",
    "\n",
    "- You can query the number of states and actions of the MDP with ```./MDP states``` and ```./MDP actions```. The discount factor of the MDP can be obtained with ```./MDP gamma```.\n",
    "\n",
    "- To start interacting with the MDP, run ```./MDP <starting state>```. At every iteration, the executable will display the current state and current return of the MDP, and ask you to choose an action, after which it will give a reward, and transition to a new state.\n",
    "\n",
    "- You must implement the Monte Carlo ES algorithm that learns the optimal policy of the MDP by simulating episodes with exploring starts.\n"
   ]
  },
  {
   "cell_type": "code",
   "execution_count": 1,
   "metadata": {},
   "outputs": [],
   "source": [
    "import subprocess\n",
    "from subprocess import Popen, PIPE\n",
    "import string\n",
    "import random\n",
    "import tqdm"
   ]
  },
  {
   "cell_type": "code",
   "execution_count": 2,
   "metadata": {},
   "outputs": [],
   "source": [
    "class MDP:\n",
    "    ret = 0\n",
    "    sta = 0\n",
    "    rew = 0\n",
    "    df = 1.0\n",
    "\n",
    "    def get_num_states(self):\n",
    "        p = Popen(['./MDP.o', 'states'], stdin=PIPE, stdout=PIPE, stderr=PIPE)\n",
    "        output, err = p.communicate()\n",
    "        rc = p.returncode\n",
    "        output = str(output)\n",
    "        output = output.replace('b\\'', '')\n",
    "        output = output.replace('\\\\n\\'', '')\n",
    "        return int(output)\n",
    "\n",
    "    def get_num_actions(self):\n",
    "        p = Popen(['./MDP.o', 'actions'], stdin=PIPE, stdout=PIPE, stderr=PIPE)\n",
    "        output, err = p.communicate()\n",
    "        rc = p.returncode\n",
    "        output = str(output)\n",
    "        output = output.replace('b\\'', '')\n",
    "        output = output.replace('\\\\n\\'', '')\n",
    "        return int(output)\n",
    "    \n",
    "    def get_gamma(self):\n",
    "        p = Popen(['./MDP.o', 'gamma'], stdin=PIPE, stdout=PIPE, stderr=PIPE)\n",
    "        output, err = p.communicate()\n",
    "        rc = p.returncode\n",
    "        output = str(output)\n",
    "        output = output.replace('b\\'', '')\n",
    "        output = output.replace('\\\\n\\'', '')\n",
    "        output =  float(output)\n",
    "        self.df = output\n",
    "        return output\n",
    "    \n",
    "    def act(self, curr_state, action):\n",
    "        p = Popen(['./MDP.o', str(curr_state)], stdin=PIPE, stdout=PIPE, stderr=PIPE)\n",
    "        output, err = p.communicate(input=str(action).encode())\n",
    "        rc = p.returncode\n",
    "        output=str(output)\n",
    "        st = output.find(\"nCurrent sta\")\n",
    "        rem_str = string.ascii_letters + \" :\\\\()\"\n",
    "        newst = \"\".join([i for i in output[st:] if rem_str.find(i) == -1])\n",
    "        newst = int(newst[0])\n",
    "        st , nd = output.find(\"Reward:\"), output.find(\"nCurrent sta\")\n",
    "        output = float(output[st:nd].strip(string.ascii_letters + \" :\\\\()\"))\n",
    "        return newst, output\n",
    "    \n",
    "    def episode(self, max_moves=100, start=None):\n",
    "        if start == None:\n",
    "            start = random.randint(0, self.get_num_states()-1)\n",
    "        return\n",
    "\n",
    "\n",
    "class MonteCarloES:\n",
    "    def __init__(self, mdp_obj: MDP) -> None:\n",
    "        self.na = mdp_obj.get_num_actions()\n",
    "        self.ns = mdp_obj.get_num_states()\n",
    "        self.gm = mdp_obj.get_gamma()\n",
    "        self.q_arr = [[0.0 for i in range(self.na)] for _ in range(self.ns)]\n",
    "        self.cnt = [[0 for i in range(self.na)] for _ in range(self.ns)]\n",
    "        self.obj0 = mdp_obj\n",
    "\n",
    "    \n",
    "    def episode(self, max_moves=100, start=None, eps=0.5):\n",
    "\n",
    "        if start == None:\n",
    "            start = random.randint(0,self.ns-1)\n",
    "        \n",
    "        start %= self.ns\n",
    "        \n",
    "        ret = [[0.0, 0, start]]\n",
    "\n",
    "        for i in range(max_moves):\n",
    "            act1 = self.ep_greedy(ret[-1][-1], epsilon=eps)\n",
    "            newst, rewew = self.obj0.act(ret[-1][-1], act1)\n",
    "            ret.append([ret[-1][0] + rewew * (self.gm ** i), act1, newst])\n",
    "        \n",
    "        return ret\n",
    "    \n",
    "    def update_q(self, ret_arr):\n",
    "        for i in range(len(ret_arr)-1):\n",
    "            curr_ret = 0.0\n",
    "            \n",
    "            \n",
    "            self.q_arr[ret_arr[i][2]][ret_arr[i+1][1]] = ((self.q_arr[ret_arr[i][2]][ret_arr[i+1][1]] * self.cnt[ret_arr[i][2]][ret_arr[i+1][1]]) + ((ret_arr[i+1][0] - ret_arr[i][0]) * (self.gm ** -i)))/(self.cnt[ret_arr[i][2]][ret_arr[i+1][1]]+1)\n",
    "            \n",
    "            self.cnt[ret_arr[i][2]][ret_arr[i+1][1]] += 1\n",
    "\n",
    "    \n",
    "    def ep_greedy(self, stt, epsilon=0.5):\n",
    "        if random.random()<epsilon:\n",
    "            return random.randint(0, self.na-1)\n",
    "        \n",
    "        f = lambda i: self.q_arr[stt][i]\n",
    "        return max(range(self.na), key=f)\n",
    "    \n",
    "    def train(self, num_episodes=1000, printin = 500):\n",
    "\n",
    "        for i in tqdm.tqdm(range(num_episodes)):\n",
    "            self.update_q(self.episode(max_moves=1 ,eps=1.0))\n",
    "\n",
    "            if (i+1)%printin == 0:\n",
    "                print(f\"Episodes trained: {i+1}\")\n",
    "                print(self.q_arr)\n",
    "\n",
    "\n",
    "\n",
    "\n",
    "\n"
   ]
  },
  {
   "cell_type": "code",
   "execution_count": 3,
   "metadata": {},
   "outputs": [
    {
     "name": "stderr",
     "output_type": "stream",
     "text": [
      " 60%|██████    | 603/1000 [00:00<00:00, 746.47it/s]"
     ]
    },
    {
     "name": "stdout",
     "output_type": "stream",
     "text": [
      "Episodes trained: 500\n",
      "[[-0.796296, 0.0193528, 0.5757120000000001, -0.20501900000000003, 0.771134], [0.956824, -0.9813140000000001, 0.230381, -1.2606499999999998, -0.46147999999999995], [-0.26165199999999994, -0.9018469999999998, 0.515194, -1.0142799999999996, -0.215068], [-0.47996900000000003, -0.546914, -2.70486, 0.6679079999999998, -0.00622682], [-1.52656, 0.36023199999999994, -0.585457, -0.7638320000000002, -0.08007620000000001], [-0.7123860000000001, -1.63486, -0.8567340000000001, -1.38673, -1.59846], [0.822831, -0.1826249999999999, 1.3308300000000004, -0.8347819999999999, 0.46691800000000006], [0.272681, -0.40601199999999993, 1.1867599999999998, -1.03232, -1.38811], [0.3279100000000001, -0.719341, -0.0804011, -0.6897570000000001, 0.842588], [-0.19968300000000003, -0.04721619999999999, -0.0304208, -0.9994289999999998, -0.189129]]\n"
     ]
    },
    {
     "name": "stderr",
     "output_type": "stream",
     "text": [
      "100%|██████████| 1000/1000 [00:01<00:00, 745.27it/s]"
     ]
    },
    {
     "name": "stdout",
     "output_type": "stream",
     "text": [
      "Episodes trained: 1000\n",
      "[[-0.7962960000000002, 0.0193528, 0.575712, -0.20501900000000003, 0.771134], [0.9568239999999999, -0.9813139999999998, 0.23038099999999997, -1.2606499999999998, -0.46148], [-0.2616519999999999, -0.901847, 0.5151939999999999, -1.0142799999999996, -0.215068], [-0.4799689999999999, -0.5469139999999999, -2.7048599999999987, 0.6679080000000003, -0.0062268199999999975], [-1.5265600000000006, 0.36023199999999994, -0.585457, -0.7638320000000005, -0.08007619999999997], [-0.7123860000000002, -1.63486, -0.8567339999999999, -1.38673, -1.5984599999999995], [0.8228310000000004, -0.18262499999999987, 1.3308299999999995, -0.8347820000000001, 0.46691799999999994], [0.2726810000000001, -0.40601199999999976, 1.1867599999999998, -1.0323200000000001, -1.38811], [0.3279100000000001, -0.719341, -0.0804011, -0.6897570000000001, 0.8425879999999996], [-0.19968299999999997, -0.04721620000000002, -0.03042080000000001, -0.9994289999999996, -0.18912899999999996]]\n"
     ]
    },
    {
     "name": "stderr",
     "output_type": "stream",
     "text": [
      "\n"
     ]
    }
   ],
   "source": [
    "emmette = MDP()\n",
    "baa = MonteCarloES(emmette)\n",
    "baa.train()"
   ]
  }
 ],
 "metadata": {
  "kernelspec": {
   "display_name": "base",
   "language": "python",
   "name": "python3"
  },
  "language_info": {
   "codemirror_mode": {
    "name": "ipython",
    "version": 3
   },
   "file_extension": ".py",
   "mimetype": "text/x-python",
   "name": "python",
   "nbconvert_exporter": "python",
   "pygments_lexer": "ipython3",
   "version": "3.10.9"
  },
  "orig_nbformat": 4
 },
 "nbformat": 4,
 "nbformat_minor": 2
}
