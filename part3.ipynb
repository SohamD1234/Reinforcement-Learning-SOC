{
 "cells": [
  {
   "attachments": {},
   "cell_type": "markdown",
   "metadata": {},
   "source": [
    "# Part III: Solving Snake using Weighted Importance Sampling (an off-policy method)\n",
    "\n",
    "- Here you will solve the game of Snake using Weighted Importance Sampling (an off-policy method). Refer to [Sutton and Barto](../SuttonBarto.pdf) for an explanation of this algorithm.\n",
    "\n",
    "- Again, you will make an engine that can solve the game of Snake.\n",
    "\n",
    "- You are not required to make a GUI for this game (although bonus points for those who do!)\n",
    "\n",
    "- The snake will be present in a 100x100 pixel grid, and will start at the center. You can choose whether it dies when hitting a wall or if it can pass through walls. Food will appear at random points on the grid. The snake gets a reward of $+1$ whenever it eats the food and it's length increases by one unit. If the snake intersects itself, it dies and the game is over. Refer [here](https://en.wikipedia.org/wiki/Snake_(video_game_genre)) for all the rules.\n",
    "\n",
    "- You can use the \"WASD\" keys to represent the actions that can be taken at any point in the game."
   ]
  },
  {
   "cell_type": "code",
   "execution_count": null,
   "metadata": {},
   "outputs": [],
   "source": [
    "class SnakeEngine:\n",
    "    '''\n",
    "    Implement the algorithm here, and add any helper classes you may need.\n",
    "    '''\n",
    "    pass"
   ]
  }
 ],
 "metadata": {
  "language_info": {
   "name": "python"
  },
  "orig_nbformat": 4
 },
 "nbformat": 4,
 "nbformat_minor": 2
}
